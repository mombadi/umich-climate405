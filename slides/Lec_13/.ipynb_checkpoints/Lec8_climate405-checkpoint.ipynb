{
 "cells": [
  {
   "cell_type": "markdown",
   "id": "f36f9d91-c252-49f8-a7fc-98daa5323bda",
   "metadata": {},
   "source": [
    "# CLIMATE 405: Machine Learning for Earth and Environmental Sciences; FALL 2024\n",
    "## Mohammed Ombadi (ombadi@umich.edu)\n",
    "\n",
    "# Lecture 8 (Wednesday, 09/25/2024)\n",
    "# Topics covered in this lecture:\n",
    "- Choice of Loss Function.\n",
    "- Regularization (Ridge and Lasso Regression). \n",
    "- In-class Excercise (Autoregression and Trend Analysis)."
   ]
  },
  {
   "cell_type": "markdown",
   "id": "a2927136-d838-4547-8f5c-d62bb0b2f714",
   "metadata": {},
   "source": [
    "## Import libraries"
   ]
  },
  {
   "cell_type": "code",
   "execution_count": 1,
   "id": "961971d4-deb8-466c-a20d-a775b9b79d16",
   "metadata": {},
   "outputs": [],
   "source": [
    "# Import libraries\n",
    "import os\n",
    "import sys\n",
    "import numpy as np\n",
    "import pandas as pd\n",
    "import matplotlib.pyplot as plt\n",
    "import seaborn as sns\n",
    "import warnings\n",
    "\n",
    "from scipy.integrate import odeint\n",
    "from IPython.display import Image\n",
    "from statistics import mode\n",
    "from scipy.stats import pearsonr, spearmanr\n",
    "from sklearn.feature_selection import mutual_info_regression\n",
    "import statsmodels.api as sm\n",
    "import pingouin as pg\n",
    "\n",
    "# Suppress warnings\n",
    "warnings.filterwarnings('ignore')\n",
    "\n",
    "# Set number of decimals for np print options\n",
    "np.set_printoptions(precision=3)\n",
    "\n",
    "# Set the current working directory\n",
    "os.chdir(sys.path[0])"
   ]
  },
  {
   "cell_type": "markdown",
   "id": "049f0818-bf9c-42b1-909c-fdc094fa2fa4",
   "metadata": {
    "jp-MarkdownHeadingCollapsed": true
   },
   "source": [
    "## <center> Choice of Loss Function </center>"
   ]
  },
  {
   "cell_type": "markdown",
   "id": "f81bb633-0341-4493-a46c-7e2ba74f1f3c",
   "metadata": {},
   "source": [
    "### 1. Least-squares (L2) loss function:"
   ]
  },
  {
   "cell_type": "markdown",
   "id": "b2487d3e-ee8b-4bcd-9694-cb3605e2820c",
   "metadata": {},
   "source": [
    "<span style=\"font-size: 24px;\"> $\\sum_{i=1}^{n} [y_i - f(x_i, \\beta)]^2$ <span>"
   ]
  },
  {
   "cell_type": "markdown",
   "id": "6df21857-5651-4cdd-b2be-1bd7e22eb4e2",
   "metadata": {},
   "source": [
    "In the case of a simple linear regression model:\n",
    "<span style=\"font-size: 18px;\"> $ f(x_i, \\beta) = \\beta_0 + \\beta_1 * x_i $ <span>"
   ]
  },
  {
   "cell_type": "markdown",
   "id": "e828fcf2-5a84-46a1-afdc-855ba3717a63",
   "metadata": {},
   "source": [
    "Therefore, L2 loss function takes the form:"
   ]
  },
  {
   "cell_type": "markdown",
   "id": "e0e6abf6-903c-4dd3-99ec-e1d1114c570f",
   "metadata": {},
   "source": [
    "<span style=\"font-size: 18px;\"> $\\sum_{i=1}^{n} [y_i - (\\beta_0 + \\beta_1 * x_i)]^2$ <span>\n",
    "\n",
    "---------------------------------------------------------------------------\n"
   ]
  },
  {
   "cell_type": "markdown",
   "id": "9b08a4b9-601b-4ce7-b56e-2ad57a97d238",
   "metadata": {},
   "source": [
    "### 2. Absolute Errors (L1) loss function:"
   ]
  },
  {
   "cell_type": "markdown",
   "id": "82f38816-ce3d-4b8b-8936-0b2fbb3b54a8",
   "metadata": {},
   "source": [
    "<span style=\"font-size: 24px;\"> $\\sum_{i=1}^{n} |y_i - f(x_i, \\beta)|$ <span>"
   ]
  },
  {
   "cell_type": "markdown",
   "id": "3e249d99-559d-4216-91ec-265cb79bbdfe",
   "metadata": {},
   "source": [
    "--------------------------------"
   ]
  },
  {
   "cell_type": "markdown",
   "id": "19eead47-b430-448a-a614-1d2280eafdac",
   "metadata": {},
   "source": [
    "### 3. Maximum Error (Infinity or Chebyshev) loss function:"
   ]
  },
  {
   "cell_type": "markdown",
   "id": "369d4201-c78a-4027-84cb-540ba7bbf76f",
   "metadata": {},
   "source": [
    "<span style=\"font-size: 24px;\"> $\\max_{i} |y_i - f(x_i, \\beta)|$ <span>"
   ]
  },
  {
   "cell_type": "markdown",
   "id": "0bd92d30-96f8-4b67-829b-3fd32fc8309f",
   "metadata": {},
   "source": [
    "There are many other types of loss functions, such as:\n",
    "- Huber Loss\n",
    "- Quantile Loss\n",
    "- R-squared (Coefficient of Determination)"
   ]
  },
  {
   "cell_type": "markdown",
   "id": "f6efb6fb-e5ab-438d-924d-4738e31d303b",
   "metadata": {},
   "source": [
    "### Example of using different loss functions:"
   ]
  },
  {
   "cell_type": "markdown",
   "id": "9833f87f-8a69-45e5-8a00-f11382c242ca",
   "metadata": {},
   "source": [
    "Let's revisit the annual meteorological and streamflow data from the previous lecture:"
   ]
  },
  {
   "cell_type": "code",
   "execution_count": 10,
   "id": "4a084c5a-5876-45ff-850b-cb30daafd553",
   "metadata": {},
   "outputs": [
    {
     "data": {
      "text/html": [
       "<div>\n",
       "<style scoped>\n",
       "    .dataframe tbody tr th:only-of-type {\n",
       "        vertical-align: middle;\n",
       "    }\n",
       "\n",
       "    .dataframe tbody tr th {\n",
       "        vertical-align: top;\n",
       "    }\n",
       "\n",
       "    .dataframe thead th {\n",
       "        text-align: right;\n",
       "    }\n",
       "</style>\n",
       "<table border=\"1\" class=\"dataframe\">\n",
       "  <thead>\n",
       "    <tr style=\"text-align: right;\">\n",
       "      <th></th>\n",
       "      <th>year</th>\n",
       "      <th>P</th>\n",
       "      <th>S</th>\n",
       "      <th>E</th>\n",
       "    </tr>\n",
       "  </thead>\n",
       "  <tbody>\n",
       "    <tr>\n",
       "      <th>0</th>\n",
       "      <td>1980</td>\n",
       "      <td>1003</td>\n",
       "      <td>3276</td>\n",
       "      <td>1260</td>\n",
       "    </tr>\n",
       "    <tr>\n",
       "      <th>1</th>\n",
       "      <td>1981</td>\n",
       "      <td>346</td>\n",
       "      <td>170</td>\n",
       "      <td>1395</td>\n",
       "    </tr>\n",
       "    <tr>\n",
       "      <th>2</th>\n",
       "      <td>1982</td>\n",
       "      <td>944</td>\n",
       "      <td>860</td>\n",
       "      <td>1208</td>\n",
       "    </tr>\n",
       "    <tr>\n",
       "      <th>3</th>\n",
       "      <td>1983</td>\n",
       "      <td>1111</td>\n",
       "      <td>2500</td>\n",
       "      <td>1190</td>\n",
       "    </tr>\n",
       "    <tr>\n",
       "      <th>4</th>\n",
       "      <td>1984</td>\n",
       "      <td>454</td>\n",
       "      <td>189</td>\n",
       "      <td>1313</td>\n",
       "    </tr>\n",
       "  </tbody>\n",
       "</table>\n",
       "</div>"
      ],
      "text/plain": [
       "   year     P     S     E\n",
       "0  1980  1003  3276  1260\n",
       "1  1981   346   170  1395\n",
       "2  1982   944   860  1208\n",
       "3  1983  1111  2500  1190\n",
       "4  1984   454   189  1313"
      ]
     },
     "execution_count": 10,
     "metadata": {},
     "output_type": "execute_result"
    }
   ],
   "source": [
    "df = pd.read_csv('partial_correlation_data_annual.csv')\n",
    "df.head()"
   ]
  },
  {
   "cell_type": "code",
   "execution_count": 15,
   "id": "7fdb7f98-3460-48c3-ae56-575fccd64fbe",
   "metadata": {},
   "outputs": [],
   "source": [
    "## Extract predictor and outcome variables \n",
    "x = df['P'].values\n",
    "y = df['S'].values\n",
    "\n",
    "## Add intercept term to X\n",
    "x_b = np.c_[np.ones((x.shape[0], 1)), x]  # add x0 = 1\n"
   ]
  },
  {
   "cell_type": "code",
   "execution_count": 21,
   "id": "3700a436-7f97-43df-af42-834ad7dfb1ce",
   "metadata": {},
   "outputs": [
    {
     "name": "stdout",
     "output_type": "stream",
     "text": [
      "Size of x_b =  (42, 2)\n",
      "Size of y =  (42,)\n"
     ]
    }
   ],
   "source": [
    "print('Size of x_b = ', x_b.shape)\n",
    "print('Size of y = ', y.shape)"
   ]
  },
  {
   "cell_type": "markdown",
   "id": "53ea23c7-b881-4be8-9bcf-aa961d94c47d",
   "metadata": {},
   "source": [
    "Now, we need to code manually the two loss functions (L1 and Infinitiy):"
   ]
  },
  {
   "cell_type": "code",
   "execution_count": 39,
   "id": "ecf8bfd5-7d3d-4f95-8f32-b98afd6112b5",
   "metadata": {},
   "outputs": [],
   "source": [
    "# Define the L1 loss function\n",
    "def l1_loss(beta):\n",
    "    return np.sum(np.abs(y - x_b.dot(beta)))\n",
    "\n",
    "# Define the Infinity loss function\n",
    "def inf_loss(beta):\n",
    "    return np.max(np.abs(y - x_b.dot(beta)))"
   ]
  },
  {
   "cell_type": "markdown",
   "id": "005bc119-a49e-45f3-9b8d-2420c8ecc04a",
   "metadata": {},
   "source": [
    "Finally, we run our regression model:"
   ]
  },
  {
   "cell_type": "code",
   "execution_count": 24,
   "id": "8239252d-66da-4775-99fc-8460d6516985",
   "metadata": {},
   "outputs": [],
   "source": [
    "from scipy.optimize import minimize"
   ]
  },
  {
   "cell_type": "code",
   "execution_count": 43,
   "id": "5af0f39d-0895-4ccf-a390-61c48157ef75",
   "metadata": {},
   "outputs": [],
   "source": [
    "# Initial guess for theta\n",
    "initial_beta = np.zeros(x_b.shape[1])\n",
    "\n",
    "######################### L1 Loss Function #############################\n",
    "\n",
    "# Optimize using the L1 loss function\n",
    "model_l1 = minimize(l1_loss, initial_beta)\n",
    "\n",
    "# Get the fitted parameters\n",
    "fitted_beta = model_l1.x\n",
    "\n",
    "# Make predictions\n",
    "y_l1 = x_b.dot(fitted_beta)\n",
    "\n",
    "########################## Infinity Loss Function  ################################\n",
    "\n",
    "# Optimize using the L1 loss function\n",
    "model_inf = minimize(inf_loss, initial_beta)\n",
    "\n",
    "# Get the fitted parameters\n",
    "fitted_beta = model_inf.x\n",
    "\n",
    "# Make predictions\n",
    "y_inf = x_b.dot(fitted_beta)\n",
    "\n",
    "###################### Least Squares Loss Function ########################\n",
    "from sklearn.linear_model import LinearRegression\n",
    "\n",
    "# Fit the model to the data (estimate parameters)\n",
    "model = LinearRegression()\n",
    "model.fit(x.reshape(-1,1), y)\n",
    "\n",
    "# Get the model estimated y\n",
    "y_l2 = model.predict(x.reshape(-1,1))"
   ]
  },
  {
   "cell_type": "code",
   "execution_count": 55,
   "id": "5923302b-d70b-44b2-abd6-d86911a76ed3",
   "metadata": {},
   "outputs": [
    {
     "data": {
      "image/png": "[encoded data removed]",
      "text/plain": [
       "<Figure size 640x480 with 1 Axes>"
      ]
     },
     "metadata": {},
     "output_type": "display_data"
    }
   ],
   "source": [
    "# Plot results\n",
    "\n",
    "plt.scatter(x, y, color='black', label='Observations')\n",
    "\n",
    "plt.plot(x, y_l1, color='skyblue', label='L1 Loss Function')\n",
    "plt.plot(x, y_inf, color='darkblue', label='Infinity Loss Function')\n",
    "plt.plot(x, y_l2, color='darkred', label='L2 Loss Function')\n",
    "\n",
    "plt.xlabel('X')\n",
    "plt.ylabel('y')\n",
    "plt.legend()\n",
    "plt.show()"
   ]
  },
  {
   "cell_type": "markdown",
   "id": "012eb4c9-1086-415f-b7b0-eb07fe6c87ee",
   "metadata": {},
   "source": [
    "## <center>Regularization</center>"
   ]
  },
  {
   "cell_type": "markdown",
   "id": "79f2f75a-3c51-4d81-8456-2ef0851e697e",
   "metadata": {},
   "source": [
    "<span style=\"font-size: 20px;\"> In regression and machine learning, regularization refers to the procdeure of adding a penalty or constraint term to the loss function to make the solution more optimal. <span>"
   ]
  },
  {
   "cell_type": "markdown",
   "id": "a596ddb5-a9fc-4c98-9f86-96a4b2da086a",
   "metadata": {},
   "source": [
    "From Lecture 7, the loss function for ordinary least squares is:"
   ]
  },
  {
   "cell_type": "markdown",
   "id": "e8d16490-646a-4e00-9694-3588b2ddd5d4",
   "metadata": {},
   "source": [
    "<span style=\"font-size: 24px;\"> $\\sum_{i=1}^{n} (y_i - f(x_i, \\beta))^2$ <span>"
   ]
  },
  {
   "cell_type": "markdown",
   "id": "494b1da5-764a-4b85-a115-36ac98a7f31e",
   "metadata": {},
   "source": [
    "Applying regularization means adding a regularization term to this loss function:"
   ]
  },
  {
   "cell_type": "markdown",
   "id": "c1408b7e-78fd-484b-bf42-2eb4b6318d0b",
   "metadata": {},
   "source": [
    "<span style=\"font-size: 24px;\"> $\\sum_{i=1}^{n} (y_i - f(x_i, \\beta))^2  +  Penalty$ <span>"
   ]
  },
  {
   "cell_type": "markdown",
   "id": "07523864-3b1b-47bf-884f-f49c8d991593",
   "metadata": {},
   "source": [
    "There are two main types of regularization:\n",
    "- Ridge Regression (also known as L2 regularization).\n",
    "- Lasso Regression (also known as L1 regularization)."
   ]
  },
  {
   "cell_type": "markdown",
   "id": "5d8f6786-9cc8-4b2a-a183-83abc4e2725e",
   "metadata": {},
   "source": [
    "### <center> Ridge Regression </center>"
   ]
  },
  {
   "cell_type": "markdown",
   "id": "bf1057ec-ea94-4972-bbf4-3b851c62a2d2",
   "metadata": {},
   "source": [
    "<span style=\"font-size: 18px;\"> In Ridge regression, the penalty term is the sum of the squares of the model’s coefficients ($ \\beta $), so the loss function takes the following form: <span>"
   ]
  },
  {
   "cell_type": "markdown",
   "id": "0783826c-e418-4408-bf4b-b7d60d3507bf",
   "metadata": {},
   "source": [
    "<span style=\"font-size: 24px;\"> $\\sum_{i=1}^{n} (y_i - (\\beta_0 + \\beta_1 * x_i))^2   +  \\lambda * \\sum_{j=1}^{m} {\\beta_j}^2 $ <span>"
   ]
  },
  {
   "cell_type": "markdown",
   "id": "059ba2ad-0c37-40c0-94f3-fb3f2b07fcc1",
   "metadata": {},
   "source": [
    "The hyperparameter $\\lambda$ controls the effect of the regularization on the model. The higher the value of $\\lambda$, the more effect regularization has on the loss function."
   ]
  },
  {
   "cell_type": "markdown",
   "id": "a750f260-6183-40b9-8b4f-a6f8ae951cab",
   "metadata": {},
   "source": [
    "#### Let's look at an example of applying Ridge regression:"
   ]
  },
  {
   "cell_type": "code",
   "execution_count": 56,
   "id": "89eb2c7d-7064-4589-b457-e1e04634abec",
   "metadata": {},
   "outputs": [],
   "source": [
    "from sklearn.linear_model import Ridge"
   ]
  },
  {
   "cell_type": "markdown",
   "id": "cee83287-26dc-4535-9e41-98687acdaaff",
   "metadata": {},
   "source": [
    "Let's import the \"meteo_streamflow_monthly\" data"
   ]
  },
  {
   "cell_type": "code",
   "execution_count": 58,
   "id": "fda349c6-6ed8-4904-8ca7-fb95e8861fa9",
   "metadata": {},
   "outputs": [
    {
     "data": {
      "text/html": [
       "<div>\n",
       "<style scoped>\n",
       "    .dataframe tbody tr th:only-of-type {\n",
       "        vertical-align: middle;\n",
       "    }\n",
       "\n",
       "    .dataframe tbody tr th {\n",
       "        vertical-align: top;\n",
       "    }\n",
       "\n",
       "    .dataframe thead th {\n",
       "        text-align: right;\n",
       "    }\n",
       "</style>\n",
       "<table border=\"1\" class=\"dataframe\">\n",
       "  <thead>\n",
       "    <tr style=\"text-align: right;\">\n",
       "      <th></th>\n",
       "      <th>year</th>\n",
       "      <th>month</th>\n",
       "      <th>P</th>\n",
       "      <th>E</th>\n",
       "      <th>Tmean</th>\n",
       "      <th>Tmax</th>\n",
       "      <th>Tmin</th>\n",
       "      <th>Tdmean</th>\n",
       "      <th>vpdmax</th>\n",
       "      <th>vpdmin</th>\n",
       "      <th>S</th>\n",
       "    </tr>\n",
       "  </thead>\n",
       "  <tbody>\n",
       "    <tr>\n",
       "      <th>0</th>\n",
       "      <td>1980</td>\n",
       "      <td>1</td>\n",
       "      <td>336.051600</td>\n",
       "      <td>19.272449</td>\n",
       "      <td>4.622550</td>\n",
       "      <td>8.745250</td>\n",
       "      <td>0.500800</td>\n",
       "      <td>-3.860550</td>\n",
       "      <td>6.400100</td>\n",
       "      <td>1.616000</td>\n",
       "      <td>423.612903</td>\n",
       "    </tr>\n",
       "    <tr>\n",
       "      <th>1</th>\n",
       "      <td>1980</td>\n",
       "      <td>2</td>\n",
       "      <td>418.161899</td>\n",
       "      <td>29.872766</td>\n",
       "      <td>5.514000</td>\n",
       "      <td>10.940600</td>\n",
       "      <td>0.088350</td>\n",
       "      <td>-5.081450</td>\n",
       "      <td>8.782650</td>\n",
       "      <td>1.898050</td>\n",
       "      <td>1685.965517</td>\n",
       "    </tr>\n",
       "    <tr>\n",
       "      <th>2</th>\n",
       "      <td>1980</td>\n",
       "      <td>3</td>\n",
       "      <td>154.332850</td>\n",
       "      <td>58.054099</td>\n",
       "      <td>4.030850</td>\n",
       "      <td>9.760900</td>\n",
       "      <td>-1.698250</td>\n",
       "      <td>-5.708050</td>\n",
       "      <td>8.087550</td>\n",
       "      <td>1.454300</td>\n",
       "      <td>609.161290</td>\n",
       "    </tr>\n",
       "    <tr>\n",
       "      <th>3</th>\n",
       "      <td>1980</td>\n",
       "      <td>4</td>\n",
       "      <td>19.936850</td>\n",
       "      <td>115.392255</td>\n",
       "      <td>8.772800</td>\n",
       "      <td>16.275450</td>\n",
       "      <td>1.271500</td>\n",
       "      <td>-5.285750</td>\n",
       "      <td>15.164100</td>\n",
       "      <td>2.414800</td>\n",
       "      <td>236.533333</td>\n",
       "    </tr>\n",
       "    <tr>\n",
       "      <th>4</th>\n",
       "      <td>1980</td>\n",
       "      <td>5</td>\n",
       "      <td>26.090900</td>\n",
       "      <td>116.888575</td>\n",
       "      <td>8.761500</td>\n",
       "      <td>15.231000</td>\n",
       "      <td>2.293150</td>\n",
       "      <td>0.081100</td>\n",
       "      <td>11.650450</td>\n",
       "      <td>1.135850</td>\n",
       "      <td>174.290323</td>\n",
       "    </tr>\n",
       "    <tr>\n",
       "      <th>...</th>\n",
       "      <td>...</td>\n",
       "      <td>...</td>\n",
       "      <td>...</td>\n",
       "      <td>...</td>\n",
       "      <td>...</td>\n",
       "      <td>...</td>\n",
       "      <td>...</td>\n",
       "      <td>...</td>\n",
       "      <td>...</td>\n",
       "      <td>...</td>\n",
       "      <td>...</td>\n",
       "    </tr>\n",
       "    <tr>\n",
       "      <th>499</th>\n",
       "      <td>2021</td>\n",
       "      <td>8</td>\n",
       "      <td>3.187385</td>\n",
       "      <td>152.323303</td>\n",
       "      <td>21.948775</td>\n",
       "      <td>27.692679</td>\n",
       "      <td>16.205010</td>\n",
       "      <td>4.492985</td>\n",
       "      <td>29.707269</td>\n",
       "      <td>9.432910</td>\n",
       "      <td>0.425161</td>\n",
       "    </tr>\n",
       "    <tr>\n",
       "      <th>500</th>\n",
       "      <td>2021</td>\n",
       "      <td>9</td>\n",
       "      <td>0.694000</td>\n",
       "      <td>112.327974</td>\n",
       "      <td>19.826580</td>\n",
       "      <td>25.139330</td>\n",
       "      <td>14.513980</td>\n",
       "      <td>1.894015</td>\n",
       "      <td>26.081899</td>\n",
       "      <td>7.880130</td>\n",
       "      <td>0.536333</td>\n",
       "    </tr>\n",
       "    <tr>\n",
       "      <th>501</th>\n",
       "      <td>2021</td>\n",
       "      <td>10</td>\n",
       "      <td>34.804679</td>\n",
       "      <td>80.789519</td>\n",
       "      <td>10.903875</td>\n",
       "      <td>17.622540</td>\n",
       "      <td>4.185345</td>\n",
       "      <td>-2.362750</td>\n",
       "      <td>13.043130</td>\n",
       "      <td>3.043920</td>\n",
       "      <td>1.584839</td>\n",
       "    </tr>\n",
       "    <tr>\n",
       "      <th>502</th>\n",
       "      <td>2021</td>\n",
       "      <td>11</td>\n",
       "      <td>0.000000</td>\n",
       "      <td>50.394858</td>\n",
       "      <td>11.795860</td>\n",
       "      <td>16.642759</td>\n",
       "      <td>6.949110</td>\n",
       "      <td>-6.681535</td>\n",
       "      <td>15.416895</td>\n",
       "      <td>5.452640</td>\n",
       "      <td>2.848667</td>\n",
       "    </tr>\n",
       "    <tr>\n",
       "      <th>503</th>\n",
       "      <td>2021</td>\n",
       "      <td>12</td>\n",
       "      <td>232.752304</td>\n",
       "      <td>23.204832</td>\n",
       "      <td>4.356815</td>\n",
       "      <td>8.752690</td>\n",
       "      <td>-0.038955</td>\n",
       "      <td>-6.133355</td>\n",
       "      <td>8.025990</td>\n",
       "      <td>2.356045</td>\n",
       "      <td>151.384194</td>\n",
       "    </tr>\n",
       "  </tbody>\n",
       "</table>\n",
       "<p>504 rows × 11 columns</p>\n",
       "</div>"
      ],
      "text/plain": [
       "     year  month           P           E      Tmean       Tmax       Tmin  \\\n",
       "0    1980      1  336.051600   19.272449   4.622550   8.745250   0.500800   \n",
       "1    1980      2  418.161899   29.872766   5.514000  10.940600   0.088350   \n",
       "2    1980      3  154.332850   58.054099   4.030850   9.760900  -1.698250   \n",
       "3    1980      4   19.936850  115.392255   8.772800  16.275450   1.271500   \n",
       "4    1980      5   26.090900  116.888575   8.761500  15.231000   2.293150   \n",
       "..    ...    ...         ...         ...        ...        ...        ...   \n",
       "499  2021      8    3.187385  152.323303  21.948775  27.692679  16.205010   \n",
       "500  2021      9    0.694000  112.327974  19.826580  25.139330  14.513980   \n",
       "501  2021     10   34.804679   80.789519  10.903875  17.622540   4.185345   \n",
       "502  2021     11    0.000000   50.394858  11.795860  16.642759   6.949110   \n",
       "503  2021     12  232.752304   23.204832   4.356815   8.752690  -0.038955   \n",
       "\n",
       "       Tdmean     vpdmax    vpdmin            S  \n",
       "0   -3.860550   6.400100  1.616000   423.612903  \n",
       "1   -5.081450   8.782650  1.898050  1685.965517  \n",
       "2   -5.708050   8.087550  1.454300   609.161290  \n",
       "3   -5.285750  15.164100  2.414800   236.533333  \n",
       "4    0.081100  11.650450  1.135850   174.290323  \n",
       "..        ...        ...       ...          ...  \n",
       "499  4.492985  29.707269  9.432910     0.425161  \n",
       "500  1.894015  26.081899  7.880130     0.536333  \n",
       "501 -2.362750  13.043130  3.043920     1.584839  \n",
       "502 -6.681535  15.416895  5.452640     2.848667  \n",
       "503 -6.133355   8.025990  2.356045   151.384194  \n",
       "\n",
       "[504 rows x 11 columns]"
      ]
     },
     "execution_count": 58,
     "metadata": {},
     "output_type": "execute_result"
    }
   ],
   "source": [
    "df = pd.read_csv('monthly_meteo_streamflow.csv')\n",
    "df"
   ]
  },
  {
   "cell_type": "markdown",
   "id": "91b7f043-ca7c-4b72-b2d0-2029d03f284f",
   "metadata": {},
   "source": [
    "Fit a Ridge regression model to the data:"
   ]
  },
  {
   "cell_type": "code",
   "execution_count": 73,
   "id": "c08c20d3-3077-4336-8569-329dba82f49d",
   "metadata": {},
   "outputs": [],
   "source": [
    "from sklearn.model_selection import train_test_split\n",
    "from sklearn.metrics import mean_squared_error, r2_score"
   ]
  },
  {
   "cell_type": "code",
   "execution_count": 97,
   "id": "8fc0d506-86ac-4f91-912f-bc6e3c22bece",
   "metadata": {},
   "outputs": [],
   "source": [
    "X = df.iloc[:,2:-1].values\n",
    "y= df.iloc[:,-1].values\n",
    "\n",
    "## split the data into training and testing\n",
    "X_train, X_test, y_train, y_test = train_test_split(X, y, test_size=0.3, random_state=42)\n",
    "\n",
    "# Fit the model to the data (estimate parameters)\n",
    "model_ridge = Ridge(alpha = 0.8)\n",
    "model_ridge.fit(X_train, y_train)\n",
    "\n",
    "# Get the model estimated y\n",
    "y_est = model_ridge.predict(X_test)"
   ]
  },
  {
   "cell_type": "markdown",
   "id": "07358768-26cf-40a5-b9da-81e3d8d9fefb",
   "metadata": {},
   "source": [
    "Let's evaluate the model:"
   ]
  },
  {
   "cell_type": "code",
   "execution_count": 98,
   "id": "a63a0f27-2fb5-474f-a0b8-40df478cfd89",
   "metadata": {},
   "outputs": [
    {
     "name": "stdout",
     "output_type": "stream",
     "text": [
      "Mean Squared Error: 13138.83\n",
      "R-squared: 0.27\n"
     ]
    }
   ],
   "source": [
    "### Let's evaluate the model:\n",
    "\n",
    "mse = mean_squared_error(y_test, y_est)\n",
    "r2 = r2_score(y_test, y_est)\n",
    "\n",
    "print(\"Mean Squared Error:\", np.round(mse, 2))\n",
    "print(\"R-squared:\", np.round(r2, 2))"
   ]
  },
  {
   "cell_type": "markdown",
   "id": "3c273336-5ef6-4754-99b6-8377a8a98b7f",
   "metadata": {},
   "source": [
    "_How does this performance compare to the multiple linear regression model we built in the last lecture using least squares fitting?_"
   ]
  },
  {
   "cell_type": "code",
   "execution_count": 99,
   "id": "03e7eb99-e5b9-4895-8052-613051814679",
   "metadata": {},
   "outputs": [
    {
     "name": "stdout",
     "output_type": "stream",
     "text": [
      "Mean Squared Error: 13219.61\n",
      "R-squared: 0.27\n"
     ]
    }
   ],
   "source": [
    "# Fit the model to the data (estimate parameters)\n",
    "model_ols = LinearRegression()\n",
    "model_ols.fit(X_train, y_train)\n",
    "\n",
    "# Get the model estimated y\n",
    "y_est = model_ols.predict(X_test)\n",
    "\n",
    "mse = mean_squared_error(y_test, y_est)\n",
    "r2 = r2_score(y_test, y_est)\n",
    "\n",
    "print(\"Mean Squared Error:\", np.round(mse, 2))\n",
    "print(\"R-squared:\", np.round(r2, 2))"
   ]
  },
  {
   "cell_type": "markdown",
   "id": "d8a5e1d2-af62-4e39-a35e-96fa95bbf874",
   "metadata": {},
   "source": [
    "### <center> Lasso Regression </center>"
   ]
  },
  {
   "cell_type": "markdown",
   "id": "7a6bf7ec-a68a-43f2-82bf-fb8b9a863a36",
   "metadata": {},
   "source": [
    "<span style=\"font-size: 18px;\"> In Lasso regression, the penalty term is the sum of the model’s coefficients ($ \\beta $), so the loss function takes the following form: <span>"
   ]
  },
  {
   "cell_type": "markdown",
   "id": "8981136b-57e7-4a13-8d1c-f6fa45d41432",
   "metadata": {},
   "source": [
    "<span style=\"font-size: 24px;\"> $\\sum_{i=1}^{n} (y_i - (\\beta_0 + \\beta_1 * x_i))^2   +  \\lambda * \\sum_{j=1}^{m} {\\beta_j} $ <span>"
   ]
  },
  {
   "cell_type": "markdown",
   "id": "f539de7f-3601-441f-a47e-172811040ddf",
   "metadata": {},
   "source": [
    "The hyperparameter $\\lambda$ controls the effect of the regularization on the model. The higher the value of $\\lambda$, the more effect regularization has on the loss function."
   ]
  },
  {
   "cell_type": "markdown",
   "id": "961fabc2-bd23-4cb7-a428-10d6e007cad6",
   "metadata": {},
   "source": [
    "Let's apply Lasso regression on the same dataset used in the previous section:"
   ]
  },
  {
   "cell_type": "code",
   "execution_count": 83,
   "id": "598332a1-01a5-4eb7-a2e6-8f4e17779951",
   "metadata": {},
   "outputs": [],
   "source": [
    "from sklearn.linear_model import Lasso"
   ]
  },
  {
   "cell_type": "code",
   "execution_count": 92,
   "id": "d593f9e8-ef54-45ce-a781-7b58e09e8552",
   "metadata": {},
   "outputs": [
    {
     "name": "stdout",
     "output_type": "stream",
     "text": [
      "Mean Squared Error: 13198.31\n",
      "R-squared: 0.27\n"
     ]
    }
   ],
   "source": [
    "# Fit the model to the data (estimate parameters)\n",
    "model_lasso = Lasso(alpha = 0.8)\n",
    "model_lasso.fit(X_train, y_train)\n",
    "\n",
    "# Get the model estimated y\n",
    "y_est = model_lasso.predict(X_test)\n",
    "\n",
    "### Let's evaluate the model:\n",
    "\n",
    "mse = mean_squared_error(y_test, y_est)\n",
    "r2 = r2_score(y_test, y_est)\n",
    "\n",
    "print(\"Mean Squared Error:\", np.round(mse, 2))\n",
    "print(\"R-squared:\", np.round(r2, 2))"
   ]
  },
  {
   "cell_type": "code",
   "execution_count": 100,
   "id": "0443f9b0-fb2f-4ef4-91a5-93f1be4e37e5",
   "metadata": {},
   "outputs": [
    {
     "name": "stdout",
     "output_type": "stream",
     "text": [
      "OLS coeff =  [ 2.788e+00  1.252e+00 -1.501e+04  7.524e+03  7.498e+03 -7.817e+00\n",
      " -1.680e+01  9.869e+00]\n",
      "OLS intercept =  -326.3452965672008\n",
      "Ridge coeff =  [  2.789   1.237   5.504  19.669  -8.322  -7.907 -17.048   9.217]\n",
      "Ridge intercept =  -327.896760298964\n",
      "Lasso coeff =  [  2.778   1.231   3.141  18.81   -5.72   -7.957 -15.583   6.357]\n",
      "Lasso intercept =  -311.5543692549201\n"
     ]
    }
   ],
   "source": [
    "# Extract coefficients and intercept\n",
    "print('OLS coeff = ',  model_ols.coef_)\n",
    "print('OLS intercept = ',  model_ols.intercept_)\n",
    "\n",
    "# Extract coefficients and intercept\n",
    "print('Ridge coeff = ',  model_ridge.coef_)\n",
    "print('Ridge intercept = ',  model_ridge.intercept_)\n",
    "\n",
    "# Extract coefficients and intercept\n",
    "print('Lasso coeff = ',  model_lasso.coef_)\n",
    "print('Lasso intercept = ',  model_lasso.intercept_)"
   ]
  },
  {
   "cell_type": "markdown",
   "id": "5b8e4c76-08bf-4ca2-83c0-15a4a99214dd",
   "metadata": {},
   "source": [
    "## <center> In-class Excercise </center>"
   ]
  },
  {
   "cell_type": "markdown",
   "id": "f06d1e5e-ac8c-4d49-9a9c-9169bddfb588",
   "metadata": {},
   "source": [
    "<span style=\"font-size: 20px;\"> Two commonly used applications of regression are:\n",
    "- Autoregression Models\n",
    "- Trend Analysis\n",
    "  <span>"
   ]
  },
  {
   "cell_type": "markdown",
   "id": "8e8d8c60-1872-46a4-850e-1ae767238173",
   "metadata": {},
   "source": [
    "### Autoregression Models:"
   ]
  },
  {
   "cell_type": "markdown",
   "id": "8d600521-23c8-4f47-a5b6-34b206d5b596",
   "metadata": {},
   "source": [
    "<span style=\"font-size: 24px;\"> $y_t = \\beta_0 + \\beta_1 * y_{t-1} + \\epsilon$ <span>"
   ]
  },
  {
   "cell_type": "markdown",
   "id": "bd51ca94-6fe7-4fee-afb9-c62135587115",
   "metadata": {},
   "source": [
    "Let's use this model to revisit Problem 2 in HW 1:"
   ]
  },
  {
   "cell_type": "code",
   "execution_count": 101,
   "id": "c674c56f-f3d4-48d4-97ea-4a4964d8066b",
   "metadata": {},
   "outputs": [
    {
     "data": {
      "text/html": [
       "<div>\n",
       "<style scoped>\n",
       "    .dataframe tbody tr th:only-of-type {\n",
       "        vertical-align: middle;\n",
       "    }\n",
       "\n",
       "    .dataframe tbody tr th {\n",
       "        vertical-align: top;\n",
       "    }\n",
       "\n",
       "    .dataframe thead th {\n",
       "        text-align: right;\n",
       "    }\n",
       "</style>\n",
       "<table border=\"1\" class=\"dataframe\">\n",
       "  <thead>\n",
       "    <tr style=\"text-align: right;\">\n",
       "      <th></th>\n",
       "      <th>STATION</th>\n",
       "      <th>NAME</th>\n",
       "      <th>DATE</th>\n",
       "      <th>T</th>\n",
       "    </tr>\n",
       "  </thead>\n",
       "  <tbody>\n",
       "    <tr>\n",
       "      <th>0</th>\n",
       "      <td>USW00094889</td>\n",
       "      <td>ANN ARBOR MUNICIPAL AIRPORT, MI US</td>\n",
       "      <td>1/1/23</td>\n",
       "      <td>4.4</td>\n",
       "    </tr>\n",
       "    <tr>\n",
       "      <th>1</th>\n",
       "      <td>USW00094889</td>\n",
       "      <td>ANN ARBOR MUNICIPAL AIRPORT, MI US</td>\n",
       "      <td>1/2/23</td>\n",
       "      <td>4.2</td>\n",
       "    </tr>\n",
       "    <tr>\n",
       "      <th>2</th>\n",
       "      <td>USW00094889</td>\n",
       "      <td>ANN ARBOR MUNICIPAL AIRPORT, MI US</td>\n",
       "      <td>1/3/23</td>\n",
       "      <td>5.0</td>\n",
       "    </tr>\n",
       "    <tr>\n",
       "      <th>3</th>\n",
       "      <td>USW00094889</td>\n",
       "      <td>ANN ARBOR MUNICIPAL AIRPORT, MI US</td>\n",
       "      <td>1/4/23</td>\n",
       "      <td>8.6</td>\n",
       "    </tr>\n",
       "    <tr>\n",
       "      <th>4</th>\n",
       "      <td>USW00094889</td>\n",
       "      <td>ANN ARBOR MUNICIPAL AIRPORT, MI US</td>\n",
       "      <td>1/5/23</td>\n",
       "      <td>2.2</td>\n",
       "    </tr>\n",
       "    <tr>\n",
       "      <th>...</th>\n",
       "      <td>...</td>\n",
       "      <td>...</td>\n",
       "      <td>...</td>\n",
       "      <td>...</td>\n",
       "    </tr>\n",
       "    <tr>\n",
       "      <th>360</th>\n",
       "      <td>USW00094889</td>\n",
       "      <td>ANN ARBOR MUNICIPAL AIRPORT, MI US</td>\n",
       "      <td>12/27/23</td>\n",
       "      <td>7.5</td>\n",
       "    </tr>\n",
       "    <tr>\n",
       "      <th>361</th>\n",
       "      <td>USW00094889</td>\n",
       "      <td>ANN ARBOR MUNICIPAL AIRPORT, MI US</td>\n",
       "      <td>12/28/23</td>\n",
       "      <td>5.3</td>\n",
       "    </tr>\n",
       "    <tr>\n",
       "      <th>362</th>\n",
       "      <td>USW00094889</td>\n",
       "      <td>ANN ARBOR MUNICIPAL AIRPORT, MI US</td>\n",
       "      <td>12/29/23</td>\n",
       "      <td>3.9</td>\n",
       "    </tr>\n",
       "    <tr>\n",
       "      <th>363</th>\n",
       "      <td>USW00094889</td>\n",
       "      <td>ANN ARBOR MUNICIPAL AIRPORT, MI US</td>\n",
       "      <td>12/30/23</td>\n",
       "      <td>1.1</td>\n",
       "    </tr>\n",
       "    <tr>\n",
       "      <th>364</th>\n",
       "      <td>USW00094889</td>\n",
       "      <td>ANN ARBOR MUNICIPAL AIRPORT, MI US</td>\n",
       "      <td>12/31/23</td>\n",
       "      <td>2.2</td>\n",
       "    </tr>\n",
       "  </tbody>\n",
       "</table>\n",
       "<p>365 rows × 4 columns</p>\n",
       "</div>"
      ],
      "text/plain": [
       "         STATION                                NAME      DATE    T\n",
       "0    USW00094889  ANN ARBOR MUNICIPAL AIRPORT, MI US    1/1/23  4.4\n",
       "1    USW00094889  ANN ARBOR MUNICIPAL AIRPORT, MI US    1/2/23  4.2\n",
       "2    USW00094889  ANN ARBOR MUNICIPAL AIRPORT, MI US    1/3/23  5.0\n",
       "3    USW00094889  ANN ARBOR MUNICIPAL AIRPORT, MI US    1/4/23  8.6\n",
       "4    USW00094889  ANN ARBOR MUNICIPAL AIRPORT, MI US    1/5/23  2.2\n",
       "..           ...                                 ...       ...  ...\n",
       "360  USW00094889  ANN ARBOR MUNICIPAL AIRPORT, MI US  12/27/23  7.5\n",
       "361  USW00094889  ANN ARBOR MUNICIPAL AIRPORT, MI US  12/28/23  5.3\n",
       "362  USW00094889  ANN ARBOR MUNICIPAL AIRPORT, MI US  12/29/23  3.9\n",
       "363  USW00094889  ANN ARBOR MUNICIPAL AIRPORT, MI US  12/30/23  1.1\n",
       "364  USW00094889  ANN ARBOR MUNICIPAL AIRPORT, MI US  12/31/23  2.2\n",
       "\n",
       "[365 rows x 4 columns]"
      ]
     },
     "execution_count": 101,
     "metadata": {},
     "output_type": "execute_result"
    }
   ],
   "source": [
    "data = pd.read_csv('Ann-Arbor-Temp.csv')\n",
    "data"
   ]
  },
  {
   "cell_type": "code",
   "execution_count": 106,
   "id": "68b3139c-0b38-4c8a-be5d-07d3821d6ca1",
   "metadata": {},
   "outputs": [],
   "source": [
    "x = data['T'].iloc[:-1].values.reshape(-1,1)\n",
    "y = data['T'].iloc[1:].values.reshape(-1,1)"
   ]
  },
  {
   "cell_type": "code",
   "execution_count": 109,
   "id": "5e38289c-5ae1-4625-a532-696317e9542d",
   "metadata": {},
   "outputs": [
    {
     "name": "stdout",
     "output_type": "stream",
     "text": [
      "Mean Squared Error: 9.56\n",
      "R-squared: 0.87\n"
     ]
    }
   ],
   "source": [
    "# Fit the model to the data (estimate parameters)\n",
    "auto_reg = LinearRegression()\n",
    "auto_reg.fit(x, y)\n",
    "\n",
    "# Get the model estimated y\n",
    "y_pred = auto_reg.predict(x)\n",
    "\n",
    "mse = mean_squared_error(y, y_pred)\n",
    "r2 = r2_score(y, y_pred)\n",
    "\n",
    "print(\"Mean Squared Error:\", np.round(mse, 2))\n",
    "print(\"R-squared:\", np.round(r2, 2))"
   ]
  },
  {
   "cell_type": "markdown",
   "id": "96663bcf-b2dd-462b-9da4-c5a09057dad4",
   "metadata": {},
   "source": [
    "Let's compare this to the persistence model:"
   ]
  },
  {
   "cell_type": "code",
   "execution_count": 110,
   "id": "2d350746-0ac6-40fd-be16-fc80760ad8bb",
   "metadata": {},
   "outputs": [
    {
     "name": "stdout",
     "output_type": "stream",
     "text": [
      "Mean Squared Error: 9.89\n",
      "R-squared: 0.87\n"
     ]
    }
   ],
   "source": [
    "mse = mean_squared_error(y, x)\n",
    "r2 = r2_score(y, x)\n",
    "\n",
    "print(\"Mean Squared Error:\", np.round(mse, 2))\n",
    "print(\"R-squared:\", np.round(r2, 2))"
   ]
  },
  {
   "cell_type": "code",
   "execution_count": 116,
   "id": "dd67999f-920a-470c-a475-56cee858bc75",
   "metadata": {},
   "outputs": [
    {
     "name": "stdout",
     "output_type": "stream",
     "text": [
      "[[0.934]]\n",
      "[0.64]\n"
     ]
    }
   ],
   "source": [
    "print(auto_reg.coef_)\n",
    "print(auto_reg.intercept_)"
   ]
  },
  {
   "cell_type": "markdown",
   "id": "51f0438d-da56-4210-8af1-4072c11e8afb",
   "metadata": {},
   "source": [
    "### Trend Analysis:"
   ]
  },
  {
   "cell_type": "markdown",
   "id": "20e2efce-3d34-49b2-aa4b-f66fcb43534a",
   "metadata": {},
   "source": [
    "Let's import and read the \"mean_global_temperature.csv\" dataset. This is a dataset of mean global temperature for the period (1880 - 2023)."
   ]
  },
  {
   "cell_type": "code",
   "execution_count": 117,
   "id": "bed8f79b-7308-41ab-a90a-4d359f92a255",
   "metadata": {},
   "outputs": [
    {
     "data": {
      "text/html": [
       "<div>\n",
       "<style scoped>\n",
       "    .dataframe tbody tr th:only-of-type {\n",
       "        vertical-align: middle;\n",
       "    }\n",
       "\n",
       "    .dataframe tbody tr th {\n",
       "        vertical-align: top;\n",
       "    }\n",
       "\n",
       "    .dataframe thead th {\n",
       "        text-align: right;\n",
       "    }\n",
       "</style>\n",
       "<table border=\"1\" class=\"dataframe\">\n",
       "  <thead>\n",
       "    <tr style=\"text-align: right;\">\n",
       "      <th></th>\n",
       "      <th>Year</th>\n",
       "      <th>Temperature [C]</th>\n",
       "    </tr>\n",
       "  </thead>\n",
       "  <tbody>\n",
       "    <tr>\n",
       "      <th>0</th>\n",
       "      <td>1880</td>\n",
       "      <td>13.83</td>\n",
       "    </tr>\n",
       "    <tr>\n",
       "      <th>1</th>\n",
       "      <td>1881</td>\n",
       "      <td>13.91</td>\n",
       "    </tr>\n",
       "    <tr>\n",
       "      <th>2</th>\n",
       "      <td>1882</td>\n",
       "      <td>13.89</td>\n",
       "    </tr>\n",
       "    <tr>\n",
       "      <th>3</th>\n",
       "      <td>1883</td>\n",
       "      <td>13.83</td>\n",
       "    </tr>\n",
       "    <tr>\n",
       "      <th>4</th>\n",
       "      <td>1884</td>\n",
       "      <td>13.72</td>\n",
       "    </tr>\n",
       "    <tr>\n",
       "      <th>...</th>\n",
       "      <td>...</td>\n",
       "      <td>...</td>\n",
       "    </tr>\n",
       "    <tr>\n",
       "      <th>139</th>\n",
       "      <td>2019</td>\n",
       "      <td>14.98</td>\n",
       "    </tr>\n",
       "    <tr>\n",
       "      <th>140</th>\n",
       "      <td>2020</td>\n",
       "      <td>15.01</td>\n",
       "    </tr>\n",
       "    <tr>\n",
       "      <th>141</th>\n",
       "      <td>2021</td>\n",
       "      <td>14.85</td>\n",
       "    </tr>\n",
       "    <tr>\n",
       "      <th>142</th>\n",
       "      <td>2022</td>\n",
       "      <td>14.89</td>\n",
       "    </tr>\n",
       "    <tr>\n",
       "      <th>143</th>\n",
       "      <td>2023</td>\n",
       "      <td>15.17</td>\n",
       "    </tr>\n",
       "  </tbody>\n",
       "</table>\n",
       "<p>144 rows × 2 columns</p>\n",
       "</div>"
      ],
      "text/plain": [
       "     Year  Temperature [C]\n",
       "0    1880            13.83\n",
       "1    1881            13.91\n",
       "2    1882            13.89\n",
       "3    1883            13.83\n",
       "4    1884            13.72\n",
       "..    ...              ...\n",
       "139  2019            14.98\n",
       "140  2020            15.01\n",
       "141  2021            14.85\n",
       "142  2022            14.89\n",
       "143  2023            15.17\n",
       "\n",
       "[144 rows x 2 columns]"
      ]
     },
     "execution_count": 117,
     "metadata": {},
     "output_type": "execute_result"
    }
   ],
   "source": [
    "data = pd.read_csv('mean_global_temperature.csv')\n",
    "data"
   ]
  },
  {
   "cell_type": "code",
   "execution_count": 121,
   "id": "0e272680-f908-49e6-b2a5-4c066cfe5c36",
   "metadata": {},
   "outputs": [
    {
     "name": "stdout",
     "output_type": "stream",
     "text": [
      "Mean Squared Error: 0.03\n",
      "R-squared: 0.76\n"
     ]
    }
   ],
   "source": [
    "x = data['Year'].values.reshape(-1,1)\n",
    "y = data['Temperature [C]'].values.reshape(-1,1)\n",
    "\n",
    "# Fit the model to the data (estimate parameters)\n",
    "trend = LinearRegression()\n",
    "trend.fit(x, y)\n",
    "\n",
    "# Get the model estimated y\n",
    "y_est = trend.predict(x)\n",
    "\n",
    "mse = mean_squared_error(y, y_est)\n",
    "r2 = r2_score(y, y_est)\n",
    "\n",
    "print(\"Mean Squared Error:\", np.round(mse, 2))\n",
    "print(\"R-squared:\", np.round(r2, 2))\n"
   ]
  },
  {
   "cell_type": "code",
   "execution_count": 123,
   "id": "85f1d07d-e24e-47a2-bb56-99b715a5f8df",
   "metadata": {},
   "outputs": [
    {
     "name": "stdout",
     "output_type": "stream",
     "text": [
      "[[0.008]]\n",
      "[-1.414]\n"
     ]
    }
   ],
   "source": [
    "print(trend.coef_)\n",
    "print(trend.intercept_)"
   ]
  }
 ],
 "metadata": {
  "kernelspec": {
   "display_name": "Python 3 (ipykernel)",
   "language": "python",
   "name": "python3"
  },
  "language_info": {
   "codemirror_mode": {
    "name": "ipython",
    "version": 3
   },
   "file_extension": ".py",
   "mimetype": "text/x-python",
   "name": "python",
   "nbconvert_exporter": "python",
   "pygments_lexer": "ipython3",
   "version": "3.12.4"
  }
 },
 "nbformat": 4,
 "nbformat_minor": 5
}
