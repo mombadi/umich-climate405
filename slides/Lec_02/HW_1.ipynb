{
 "cells": [
  {
   "cell_type": "code",
   "execution_count": 1,
   "id": "a9050931-4af4-4fac-bf49-beb8286255dd",
   "metadata": {},
   "outputs": [],
   "source": [
    "# Import libraries\n",
    "import os\n",
    "import sys\n",
    "import numpy as np\n",
    "import pandas as pd\n",
    "import matplotlib.pyplot as plt\n",
    "\n",
    "from scipy.integrate import odeint\n",
    "from IPython.display import Image\n",
    "from statistics import mode\n",
    "from scipy.stats import skew, kurtosis, norm, lognorm, genextreme\n",
    "\n",
    "\n",
    "# Set the current working directory\n",
    "os.chdir(sys.path[0])"
   ]
  },
  {
   "cell_type": "code",
   "execution_count": 2,
   "id": "c90ded60-9940-4cc1-b6e8-f29ded6bfea0",
   "metadata": {},
   "outputs": [],
   "source": [
    "data = pd.read_csv('/Users/ombadi/Desktop/Mo Files/Teaching/CLIMATE 405/Homework/Ann Arbor_meteorological_2023.csv')"
   ]
  },
  {
   "cell_type": "code",
   "execution_count": 4,
   "id": "117a8106-cffb-48d8-9774-bf1a3c559e9c",
   "metadata": {},
   "outputs": [],
   "source": [
    "data['TAVG'] = (data['TMAX'] + data['TMIN'])/2"
   ]
  },
  {
   "cell_type": "code",
   "execution_count": 14,
   "id": "7f37017d-acd6-4abf-b3fd-99988c792e07",
   "metadata": {},
   "outputs": [],
   "source": [
    "data['T'] = np.nan\n",
    "data['T'] = np.round((data['TAVG']-32)*(5/9), 1)"
   ]
  },
  {
   "cell_type": "code",
   "execution_count": 15,
   "id": "b850ff23-248a-4620-8f54-a9d5f777a899",
   "metadata": {},
   "outputs": [
    {
     "data": {
      "text/html": [
       "<div>\n",
       "<style scoped>\n",
       "    .dataframe tbody tr th:only-of-type {\n",
       "        vertical-align: middle;\n",
       "    }\n",
       "\n",
       "    .dataframe tbody tr th {\n",
       "        vertical-align: top;\n",
       "    }\n",
       "\n",
       "    .dataframe thead th {\n",
       "        text-align: right;\n",
       "    }\n",
       "</style>\n",
       "<table border=\"1\" class=\"dataframe\">\n",
       "  <thead>\n",
       "    <tr style=\"text-align: right;\">\n",
       "      <th></th>\n",
       "      <th>STATION</th>\n",
       "      <th>NAME</th>\n",
       "      <th>DATE</th>\n",
       "      <th>PRCP</th>\n",
       "      <th>TAVG</th>\n",
       "      <th>TMAX</th>\n",
       "      <th>TMIN</th>\n",
       "      <th>T</th>\n",
       "    </tr>\n",
       "  </thead>\n",
       "  <tbody>\n",
       "    <tr>\n",
       "      <th>0</th>\n",
       "      <td>USW00094889</td>\n",
       "      <td>ANN ARBOR MUNICIPAL AIRPORT, MI US</td>\n",
       "      <td>2023-01-01</td>\n",
       "      <td>0.11</td>\n",
       "      <td>40.0</td>\n",
       "      <td>46.0</td>\n",
       "      <td>34.0</td>\n",
       "      <td>4.4</td>\n",
       "    </tr>\n",
       "    <tr>\n",
       "      <th>1</th>\n",
       "      <td>USW00094889</td>\n",
       "      <td>ANN ARBOR MUNICIPAL AIRPORT, MI US</td>\n",
       "      <td>2023-01-02</td>\n",
       "      <td>0.00</td>\n",
       "      <td>39.5</td>\n",
       "      <td>44.0</td>\n",
       "      <td>35.0</td>\n",
       "      <td>4.2</td>\n",
       "    </tr>\n",
       "    <tr>\n",
       "      <th>2</th>\n",
       "      <td>USW00094889</td>\n",
       "      <td>ANN ARBOR MUNICIPAL AIRPORT, MI US</td>\n",
       "      <td>2023-01-03</td>\n",
       "      <td>0.45</td>\n",
       "      <td>41.0</td>\n",
       "      <td>43.0</td>\n",
       "      <td>39.0</td>\n",
       "      <td>5.0</td>\n",
       "    </tr>\n",
       "    <tr>\n",
       "      <th>3</th>\n",
       "      <td>USW00094889</td>\n",
       "      <td>ANN ARBOR MUNICIPAL AIRPORT, MI US</td>\n",
       "      <td>2023-01-04</td>\n",
       "      <td>0.17</td>\n",
       "      <td>47.5</td>\n",
       "      <td>58.0</td>\n",
       "      <td>37.0</td>\n",
       "      <td>8.6</td>\n",
       "    </tr>\n",
       "    <tr>\n",
       "      <th>4</th>\n",
       "      <td>USW00094889</td>\n",
       "      <td>ANN ARBOR MUNICIPAL AIRPORT, MI US</td>\n",
       "      <td>2023-01-05</td>\n",
       "      <td>0.04</td>\n",
       "      <td>36.0</td>\n",
       "      <td>40.0</td>\n",
       "      <td>32.0</td>\n",
       "      <td>2.2</td>\n",
       "    </tr>\n",
       "    <tr>\n",
       "      <th>...</th>\n",
       "      <td>...</td>\n",
       "      <td>...</td>\n",
       "      <td>...</td>\n",
       "      <td>...</td>\n",
       "      <td>...</td>\n",
       "      <td>...</td>\n",
       "      <td>...</td>\n",
       "      <td>...</td>\n",
       "    </tr>\n",
       "    <tr>\n",
       "      <th>360</th>\n",
       "      <td>USW00094889</td>\n",
       "      <td>ANN ARBOR MUNICIPAL AIRPORT, MI US</td>\n",
       "      <td>2023-12-27</td>\n",
       "      <td>0.05</td>\n",
       "      <td>45.5</td>\n",
       "      <td>49.0</td>\n",
       "      <td>42.0</td>\n",
       "      <td>7.5</td>\n",
       "    </tr>\n",
       "    <tr>\n",
       "      <th>361</th>\n",
       "      <td>USW00094889</td>\n",
       "      <td>ANN ARBOR MUNICIPAL AIRPORT, MI US</td>\n",
       "      <td>2023-12-28</td>\n",
       "      <td>0.18</td>\n",
       "      <td>41.5</td>\n",
       "      <td>44.0</td>\n",
       "      <td>39.0</td>\n",
       "      <td>5.3</td>\n",
       "    </tr>\n",
       "    <tr>\n",
       "      <th>362</th>\n",
       "      <td>USW00094889</td>\n",
       "      <td>ANN ARBOR MUNICIPAL AIRPORT, MI US</td>\n",
       "      <td>2023-12-29</td>\n",
       "      <td>0.07</td>\n",
       "      <td>39.0</td>\n",
       "      <td>41.0</td>\n",
       "      <td>37.0</td>\n",
       "      <td>3.9</td>\n",
       "    </tr>\n",
       "    <tr>\n",
       "      <th>363</th>\n",
       "      <td>USW00094889</td>\n",
       "      <td>ANN ARBOR MUNICIPAL AIRPORT, MI US</td>\n",
       "      <td>2023-12-30</td>\n",
       "      <td>0.01</td>\n",
       "      <td>34.0</td>\n",
       "      <td>40.0</td>\n",
       "      <td>28.0</td>\n",
       "      <td>1.1</td>\n",
       "    </tr>\n",
       "    <tr>\n",
       "      <th>364</th>\n",
       "      <td>USW00094889</td>\n",
       "      <td>ANN ARBOR MUNICIPAL AIRPORT, MI US</td>\n",
       "      <td>2023-12-31</td>\n",
       "      <td>0.01</td>\n",
       "      <td>36.0</td>\n",
       "      <td>39.0</td>\n",
       "      <td>33.0</td>\n",
       "      <td>2.2</td>\n",
       "    </tr>\n",
       "  </tbody>\n",
       "</table>\n",
       "<p>365 rows × 8 columns</p>\n",
       "</div>"
      ],
      "text/plain": [
       "         STATION                                NAME        DATE  PRCP  TAVG  \\\n",
       "0    USW00094889  ANN ARBOR MUNICIPAL AIRPORT, MI US  2023-01-01  0.11  40.0   \n",
       "1    USW00094889  ANN ARBOR MUNICIPAL AIRPORT, MI US  2023-01-02  0.00  39.5   \n",
       "2    USW00094889  ANN ARBOR MUNICIPAL AIRPORT, MI US  2023-01-03  0.45  41.0   \n",
       "3    USW00094889  ANN ARBOR MUNICIPAL AIRPORT, MI US  2023-01-04  0.17  47.5   \n",
       "4    USW00094889  ANN ARBOR MUNICIPAL AIRPORT, MI US  2023-01-05  0.04  36.0   \n",
       "..           ...                                 ...         ...   ...   ...   \n",
       "360  USW00094889  ANN ARBOR MUNICIPAL AIRPORT, MI US  2023-12-27  0.05  45.5   \n",
       "361  USW00094889  ANN ARBOR MUNICIPAL AIRPORT, MI US  2023-12-28  0.18  41.5   \n",
       "362  USW00094889  ANN ARBOR MUNICIPAL AIRPORT, MI US  2023-12-29  0.07  39.0   \n",
       "363  USW00094889  ANN ARBOR MUNICIPAL AIRPORT, MI US  2023-12-30  0.01  34.0   \n",
       "364  USW00094889  ANN ARBOR MUNICIPAL AIRPORT, MI US  2023-12-31  0.01  36.0   \n",
       "\n",
       "     TMAX  TMIN    T  \n",
       "0    46.0  34.0  4.4  \n",
       "1    44.0  35.0  4.2  \n",
       "2    43.0  39.0  5.0  \n",
       "3    58.0  37.0  8.6  \n",
       "4    40.0  32.0  2.2  \n",
       "..    ...   ...  ...  \n",
       "360  49.0  42.0  7.5  \n",
       "361  44.0  39.0  5.3  \n",
       "362  41.0  37.0  3.9  \n",
       "363  40.0  28.0  1.1  \n",
       "364  39.0  33.0  2.2  \n",
       "\n",
       "[365 rows x 8 columns]"
      ]
     },
     "execution_count": 15,
     "metadata": {},
     "output_type": "execute_result"
    }
   ],
   "source": [
    "data"
   ]
  },
  {
   "cell_type": "code",
   "execution_count": 16,
   "id": "fabf3374-a952-4486-a673-2653ac735cd9",
   "metadata": {},
   "outputs": [
    {
     "data": {
      "text/plain": [
       "(array([ 3.,  3., 11., 47., 73., 48., 32., 52., 69., 26.]),\n",
       " array([-15.3 , -11.21,  -7.12,  -3.03,   1.06,   5.15,   9.24,  13.33,\n",
       "         17.42,  21.51,  25.6 ]),\n",
       " <BarContainer object of 10 artists>)"
      ]
     },
     "execution_count": 16,
     "metadata": {},
     "output_type": "execute_result"
    },
    {
     "data": {
      "image/png": "[encoded data removed]",
      "text/plain": [
       "<Figure size 640x480 with 1 Axes>"
      ]
     },
     "metadata": {},
     "output_type": "display_data"
    }
   ],
   "source": [
    "plt.hist(data['T'])"
   ]
  },
  {
   "cell_type": "code",
   "execution_count": 21,
   "id": "c3613a0a-71d9-4c54-8a53-7af4c91fea63",
   "metadata": {},
   "outputs": [
    {
     "data": {
      "text/plain": [
       "231"
      ]
     },
     "execution_count": 21,
     "metadata": {},
     "output_type": "execute_result"
    }
   ],
   "source": [
    "np.nansum(data['T']<15)"
   ]
  },
  {
   "cell_type": "code",
   "execution_count": 20,
   "id": "c4bd6108-4ced-4d27-b833-4ed4b63b557c",
   "metadata": {},
   "outputs": [
    {
     "data": {
      "text/plain": [
       "130"
      ]
     },
     "execution_count": 20,
     "metadata": {},
     "output_type": "execute_result"
    }
   ],
   "source": [
    "np.nansum(data['T']>15)"
   ]
  },
  {
   "cell_type": "code",
   "execution_count": 17,
   "id": "8e5952d1-a26d-4a71-af96-7fad53c504a4",
   "metadata": {},
   "outputs": [],
   "source": [
    "data.to_csv('/Users/ombadi/Desktop/Mo Files/Teaching/CLIMATE 405/Homework/Ann-Arbor-Temp.csv')"
   ]
  },
  {
   "cell_type": "markdown",
   "id": "2c2ab4e2-eaea-4fe8-aed2-98e1e075a9d9",
   "metadata": {},
   "source": [
    "## Q1"
   ]
  },
  {
   "cell_type": "code",
   "execution_count": 23,
   "id": "8b58d914-5b5f-4cdf-83bb-446065feb0ad",
   "metadata": {},
   "outputs": [
    {
     "name": "stdout",
     "output_type": "stream",
     "text": [
      "-0.2539908978087353\n",
      "-0.07190898160419223\n",
      "0.03254445970965447\n",
      "0.011739201375708053\n"
     ]
    }
   ],
   "source": [
    "n = [100, 1000, 10000, 100000]\n",
    "\n",
    "for i in range(len(n)):\n",
    "\n",
    "    x = np.random.normal(0, 1, n[i])\n",
    "    print(kurtosis(x))"
   ]
  },
  {
   "cell_type": "markdown",
   "id": "cb1f5805-36e9-427e-86ab-31643e5fd196",
   "metadata": {},
   "source": [
    "### Q2"
   ]
  },
  {
   "cell_type": "code",
   "execution_count": 41,
   "id": "bf0a8dd4-db19-4ac4-beec-3d1f2b684de5",
   "metadata": {},
   "outputs": [],
   "source": [
    "data = pd.read_csv('/Users/ombadi/Desktop/Mo Files/Teaching/CLIMATE 405/Homework/Ann-Arbor-Temp.csv')"
   ]
  },
  {
   "cell_type": "code",
   "execution_count": 42,
   "id": "18719e55-67fa-4e61-9688-3baa14f4e7ab",
   "metadata": {},
   "outputs": [],
   "source": [
    "pred = data['T'][:-1].values\n",
    "obs = data['T'][1:].values"
   ]
  },
  {
   "cell_type": "code",
   "execution_count": 43,
   "id": "27fc9869-5d54-4f55-8bc8-2c8818c6b1db",
   "metadata": {},
   "outputs": [
    {
     "data": {
      "text/plain": [
       "[<matplotlib.lines.Line2D at 0x1694b0a70>,\n",
       " <matplotlib.lines.Line2D at 0x16947fdd0>]"
      ]
     },
     "execution_count": 43,
     "metadata": {},
     "output_type": "execute_result"
    },
    {
     "data": {
      "image/png": "[encoded data removed]",
      "text/plain": [
       "<Figure size 640x480 with 1 Axes>"
      ]
     },
     "metadata": {},
     "output_type": "display_data"
    }
   ],
   "source": [
    "plt.plot(np.arange(len(obs)), obs, 'ro', np.arange(len(pred)), pred, '-k')"
   ]
  },
  {
   "cell_type": "code",
   "execution_count": 46,
   "id": "c1b14222-b671-4586-af2f-6bc064ceb4db",
   "metadata": {},
   "outputs": [
    {
     "data": {
      "text/plain": [
       "9.889615384615386"
      ]
     },
     "execution_count": 46,
     "metadata": {},
     "output_type": "execute_result"
    }
   ],
   "source": [
    "np.mean((obs - pred)**2)"
   ]
  },
  {
   "cell_type": "code",
   "execution_count": 47,
   "id": "42a830e8-5154-4474-a482-69b4ba1496c1",
   "metadata": {},
   "outputs": [
    {
     "data": {
      "text/plain": [
       "3.1447758878202094"
      ]
     },
     "execution_count": 47,
     "metadata": {},
     "output_type": "execute_result"
    }
   ],
   "source": [
    "np.sqrt(np.mean((obs - pred)**2))"
   ]
  },
  {
   "cell_type": "code",
   "execution_count": 48,
   "id": "d665a0f9-53d1-48ba-acd0-2baa1ea7f864",
   "metadata": {},
   "outputs": [
    {
     "data": {
      "text/plain": [
       "2.364285714285714"
      ]
     },
     "execution_count": 48,
     "metadata": {},
     "output_type": "execute_result"
    }
   ],
   "source": [
    "np.mean(abs(obs - pred))"
   ]
  },
  {
   "cell_type": "code",
   "execution_count": 49,
   "id": "1189269d-e4ce-4d2c-8d71-d3a11aa5ee07",
   "metadata": {},
   "outputs": [
    {
     "data": {
      "text/plain": [
       "-0.006043956043956042"
      ]
     },
     "execution_count": 49,
     "metadata": {},
     "output_type": "execute_result"
    }
   ],
   "source": [
    "np.mean(obs-pred)"
   ]
  },
  {
   "cell_type": "code",
   "execution_count": 50,
   "id": "2e68ef91-0d23-450f-b29c-51a05a4d4236",
   "metadata": {},
   "outputs": [
    {
     "data": {
      "text/plain": [
       "-0.0006220312146573171"
      ]
     },
     "execution_count": 50,
     "metadata": {},
     "output_type": "execute_result"
    }
   ],
   "source": [
    "np.mean(obs-pred) / np.mean(obs)"
   ]
  },
  {
   "cell_type": "code",
   "execution_count": 51,
   "id": "896c0f38-b17a-4226-82e8-4ff4ec20c4fc",
   "metadata": {},
   "outputs": [
    {
     "data": {
      "text/plain": [
       "0.9330884725991082"
      ]
     },
     "execution_count": 51,
     "metadata": {},
     "output_type": "execute_result"
    }
   ],
   "source": [
    "np.corrcoef(obs,pred)[0,1]"
   ]
  },
  {
   "cell_type": "code",
   "execution_count": null,
   "id": "6a71e5d3-9344-42c3-ace7-ccf26a2ff8d9",
   "metadata": {},
   "outputs": [],
   "source": []
  }
 ],
 "metadata": {
  "kernelspec": {
   "display_name": "Python 3 (ipykernel)",
   "language": "python",
   "name": "python3"
  },
  "language_info": {
   "codemirror_mode": {
    "name": "ipython",
    "version": 3
   },
   "file_extension": ".py",
   "mimetype": "text/x-python",
   "name": "python",
   "nbconvert_exporter": "python",
   "pygments_lexer": "ipython3",
   "version": "3.12.4"
  }
 },
 "nbformat": 4,
 "nbformat_minor": 5
}
